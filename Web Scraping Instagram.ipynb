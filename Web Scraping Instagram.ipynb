{
 "cells": [
  {
   "cell_type": "markdown",
   "metadata": {},
   "source": [
    "# Import Libraries"
   ]
  },
  {
   "cell_type": "code",
   "execution_count": 1,
   "metadata": {},
   "outputs": [],
   "source": [
    "#Selenium imports here\n",
    "from selenium import webdriver\n",
    "from selenium.webdriver.common.keys import Keys\n",
    "from selenium.webdriver.support import expected_conditions as EC\n",
    "from selenium.webdriver.common.by import By\n",
    "from selenium.webdriver.support.wait import WebDriverWait"
   ]
  },
  {
   "cell_type": "code",
   "execution_count": 2,
   "metadata": {},
   "outputs": [],
   "source": [
    "#Other imports here\n",
    "import os\n",
    "import wget"
   ]
  },
  {
   "cell_type": "markdown",
   "metadata": {},
   "source": [
    "# Download Chrome Driver\n",
    "From: https://chromedriver.chromium.org/downloads"
   ]
  },
  {
   "cell_type": "code",
   "execution_count": 3,
   "metadata": {},
   "outputs": [],
   "source": [
    "#Specify the path to chromedriver.exe (download and save on your computer)\n",
    "driver = webdriver.Chrome('D:/Manoj/Common7/chromedriver_win32/Chromedriver.exe')\n",
    "\n",
    "#open the webpage\n",
    "driver.get(\"http://www.instagram.com\")"
   ]
  },
  {
   "cell_type": "code",
   "execution_count": 4,
   "metadata": {},
   "outputs": [],
   "source": [
    "#Target username\n",
    "username = WebDriverWait(driver, 10).until(EC.element_to_be_clickable((By.CSS_SELECTOR, \"input[name='username']\")))\n",
    "password = WebDriverWait(driver, 10).until(EC.element_to_be_clickable((By.CSS_SELECTOR, \"input[name='password']\")))\n",
    "\n",
    "#enter username and password\n",
    "username.clear()\n",
    "password.clear()\n",
    "username.send_keys(\"your_username\")\n",
    "password.send_keys(\"your_password\")"
   ]
  },
  {
   "cell_type": "code",
   "execution_count": 5,
   "metadata": {},
   "outputs": [],
   "source": [
    "#Target the login button and click it\n",
    "log_in = WebDriverWait(driver, 2).until(EC.element_to_be_clickable((By.CSS_SELECTOR, \"button[type='submit']\"))).click()\n",
    "\n",
    "#We are logged in!"
   ]
  },
  {
   "cell_type": "code",
   "execution_count": 6,
   "metadata": {},
   "outputs": [],
   "source": [
    "#Nadle NOT NOW\n",
    "not_now = WebDriverWait(driver, 10).until(EC.element_to_be_clickable((By.XPATH, '//button[contains(text(), \"Not Now\")]'))).click()"
   ]
  },
  {
   "cell_type": "code",
   "execution_count": 7,
   "metadata": {},
   "outputs": [],
   "source": [
    "#Nadle NOT NOW\n",
    "not_now2 = WebDriverWait(driver, 10).until(EC.element_to_be_clickable((By.XPATH, '//button[contains(text(), \"Not Now\")]'))).click()"
   ]
  },
  {
   "cell_type": "code",
   "execution_count": 8,
   "metadata": {},
   "outputs": [],
   "source": [
    "#target the search input field\n",
    "searchbox = WebDriverWait(driver, 10).until(EC.element_to_be_clickable((By.XPATH, \"//input[@placeholder='Search']\")))\n",
    "searchbox.clear()\n",
    "\n",
    "#search for the hashtag cat\n",
    "keyword = \"#naturephotography\"\n",
    "searchbox.send_keys(keyword)"
   ]
  },
  {
   "cell_type": "code",
   "execution_count": 10,
   "metadata": {},
   "outputs": [],
   "source": [
    "searchbox.send_keys(Keys.ENTER)\n",
    "searchbox.send_keys(Keys.ENTER)"
   ]
  },
  {
   "cell_type": "code",
   "execution_count": 11,
   "metadata": {},
   "outputs": [
    {
     "data": {
      "text/plain": [
       "['https://instagram.fcjb3-1.fna.fbcdn.net/v/t51.2885-15/e35/234421783_386769243068395_4028893352499817634_n.jpg?_nc_ht=instagram.fcjb3-1.fna.fbcdn.net&_nc_cat=107&_nc_ohc=2nfi1TIThoMAX-RI0yz&edm=ABZsPhsBAAAA&ccb=7-4&oh=b3450ae3e3000fee797ad6181b5d3916&oe=6116442B&_nc_sid=4efc9f&ig_cache_key=MjYzNTc5MjAyNTIwNTczNzUzMQ%3D%3D.2-ccb7-4',\n",
       " 'https://instagram.fcjb3-1.fna.fbcdn.net/v/t51.2885-15/e35/234421783_386769243068395_4028893352499817634_n.jpg?_nc_ht=instagram.fcjb3-1.fna.fbcdn.net&_nc_cat=107&_nc_ohc=2nfi1TIThoMAX-RI0yz&edm=ABZsPhsBAAAA&ccb=7-4&oh=b3450ae3e3000fee797ad6181b5d3916&oe=6116442B&_nc_sid=4efc9f&ig_cache_key=MjYzNTc5MjAyNTIwNTczNzUzMQ%3D%3D.2-ccb7-4',\n",
       " 'https://instagram.fcjb3-1.fna.fbcdn.net/v/t51.2885-15/e35/c0.90.720.720a/233640434_803386470349718_4561763809553501929_n.jpg?_nc_ht=instagram.fcjb3-1.fna.fbcdn.net&_nc_cat=102&_nc_ohc=DEOmdUVnBJIAX9SlrQh&edm=ABZsPhsBAAAA&ccb=7-4&oh=dd84c5924630b6cc1454fd22def2cb49&oe=61175B11&_nc_sid=4efc9f&ig_cache_key=MjYzNTcyODMwNDU3NDE5MTQ3OA%3D%3D.2-ccb7-4',\n",
       " 'https://instagram.fcjb3-2.fna.fbcdn.net/v/t51.2885-15/e35/234109806_582689992760835_8090315049510355628_n.jpg?_nc_ht=instagram.fcjb3-2.fna.fbcdn.net&_nc_cat=103&_nc_ohc=p18bnEnAt8UAX_cbNxd&edm=ABZsPhsBAAAA&ccb=7-4&oh=0dd6cc068e3b7c71eeab2377c8d85c89&oe=61179887&_nc_sid=4efc9f&ig_cache_key=MjYzNTgxNjc2NjMzOTI1ODQyMw%3D%3D.2-ccb7-4',\n",
       " 'https://instagram.fcjb3-3.fna.fbcdn.net/v/t51.2885-15/e35/233906257_552520185885253_545193436225957266_n.jpg?_nc_ht=instagram.fcjb3-3.fna.fbcdn.net&_nc_cat=101&_nc_ohc=cuky42m1jwoAX-Of8c4&edm=ABZsPhsBAAAA&ccb=7-4&oh=0a5385db222aa3b19565cd76043f19bd&oe=6117587E&_nc_sid=4efc9f&ig_cache_key=MjYzNTgzMDAxODIxNjIzNjg5Nw%3D%3D.2-ccb7-4',\n",
       " 'https://instagram.fcjb3-2.fna.fbcdn.net/v/t51.2885-15/e35/234080187_571684063967193_7287633566971101978_n.jpg?_nc_ht=instagram.fcjb3-2.fna.fbcdn.net&_nc_cat=109&_nc_ohc=Zduza7YpMUsAX-KxUfM&edm=ABZsPhsBAAAA&ccb=7-4&oh=942313fa9d1eeee180ca83302d5d1faf&oe=611626EC&_nc_sid=4efc9f&ig_cache_key=MjYzNTc2OTY1MzUzNDE3MTI1Ng%3D%3D.2-ccb7-4',\n",
       " 'https://instagram.fcjb3-2.fna.fbcdn.net/v/t51.2885-15/e35/234918276_4732067170156254_7899659750989207354_n.jpg?_nc_ht=instagram.fcjb3-2.fna.fbcdn.net&_nc_cat=106&_nc_ohc=6X89ZhpTHhwAX-hgnuf&edm=ABZsPhsBAAAA&ccb=7-4&oh=fc6653002772452a6539c3a431122a1c&oe=6116F1A8&_nc_sid=4efc9f&ig_cache_key=MjYzNTc3Nzk2ODE3MjEwMjEwOQ%3D%3D.2-ccb7-4',\n",
       " 'https://instagram.fcjb3-3.fna.fbcdn.net/v/t51.2885-15/e35/233657505_1011942332876136_1065101425209613450_n.jpg?_nc_ht=instagram.fcjb3-3.fna.fbcdn.net&_nc_cat=100&_nc_ohc=2hgFmsPy54gAX_BxWpH&edm=ABZsPhsBAAAA&ccb=7-4&oh=b8b4563e60f099bb32507c36afba817e&oe=611619AB&_nc_sid=4efc9f&ig_cache_key=MjYzNTc5NTk2ODk4MzU0ODU5MA%3D%3D.2-ccb7-4',\n",
       " 'https://instagram.fcjb3-3.fna.fbcdn.net/v/t51.2885-15/e35/234175299_521454842414224_2691981554632368819_n.jpg?_nc_ht=instagram.fcjb3-3.fna.fbcdn.net&_nc_cat=104&_nc_ohc=QEGVU4WF0ikAX8VkpH-&edm=ABZsPhsBAAAA&ccb=7-4&oh=52077bcc0b8806af6dfa8909b8cafbd0&oe=6116A3DA&_nc_sid=4efc9f&ig_cache_key=MjYzNTc1Mzg1OTgyMzI0MTcxOA%3D%3D.2-ccb7-4',\n",
       " 'https://instagram.fcjb3-2.fna.fbcdn.net/v/t51.2885-15/e35/233262499_346421317016571_7729564939000812040_n.jpg?_nc_ht=instagram.fcjb3-2.fna.fbcdn.net&_nc_cat=103&_nc_ohc=A8qPxRLhLwQAX8qvL19&edm=ABZsPhsBAAAA&ccb=7-4&oh=7dc3559a00be2f289f2c52ba7358a13e&oe=6116040C&_nc_sid=4efc9f&ig_cache_key=MjYzNTcwOTY3MTkwMDY3NzYyNg%3D%3D.2-ccb7-4',\n",
       " 'https://instagram.fcjb3-1.fna.fbcdn.net/v/t51.2885-15/e35/233723045_1042458289904518_1261157223262525163_n.jpg?_nc_ht=instagram.fcjb3-1.fna.fbcdn.net&_nc_cat=110&_nc_ohc=YJ35_rXEDbcAX-dKcEV&edm=ABZsPhsBAAAA&ccb=7-4&oh=47d0bc5e391ea2603b0329ec77663c80&oe=6117B968&_nc_sid=4efc9f&ig_cache_key=MjYzNTg0MTQxNDE3MzY4MTM5Nw%3D%3D.2-ccb7-4',\n",
       " 'https://instagram.fcjb3-1.fna.fbcdn.net/v/t51.2885-15/e35/234041926_2691459181152782_8229824429990187529_n.jpg?_nc_ht=instagram.fcjb3-1.fna.fbcdn.net&_nc_cat=102&_nc_ohc=hbnz4wBnbz8AX_XmDTF&edm=ABZsPhsBAAAA&ccb=7-4&oh=82388045a7d53463ec007cb218133977&oe=61169F5A&_nc_sid=4efc9f&ig_cache_key=MjYzNTg0MTQwODg0MDUxOTk5OQ%3D%3D.2-ccb7-4',\n",
       " 'https://instagram.fcjb3-1.fna.fbcdn.net/v/t51.2885-15/e35/233679785_1184042635440683_6684734092119755592_n.jpg?_nc_ht=instagram.fcjb3-1.fna.fbcdn.net&_nc_cat=111&_nc_ohc=6gQfyCJzsLUAX_ZO7xC&edm=ABZsPhsBAAAA&ccb=7-4&oh=a82d29f38188de91f0e35112e390bcda&oe=61160645&_nc_sid=4efc9f&ig_cache_key=MjYzNTg0MTQxMTUxMzg1Nzg3OA%3D%3D.2-ccb7-4',\n",
       " 'https://instagram.fcjb3-1.fna.fbcdn.net/v/t51.2885-15/e35/233957396_980326042764086_549222483328785646_n.jpg?_nc_ht=instagram.fcjb3-1.fna.fbcdn.net&_nc_cat=102&_nc_ohc=PEOroAabL5AAX9b_iqd&edm=ABZsPhsBAAAA&ccb=7-4&oh=c9e2835dca6b85322f7c63eb98d05aea&oe=6115FFEA&_nc_sid=4efc9f&ig_cache_key=MjYzNTg0MTM5OTYyNjY4MTE4Nw%3D%3D.2-ccb7-4',\n",
       " 'https://instagram.fcjb3-1.fna.fbcdn.net/v/t51.2885-15/e35/233760787_4181586921949135_6270788034441287411_n.jpg?_nc_ht=instagram.fcjb3-1.fna.fbcdn.net&_nc_cat=107&_nc_ohc=R09bJCOE82cAX_q09HS&edm=ABZsPhsBAAAA&ccb=7-4&oh=0e1d03aa44829d06d5088dc3bd2a70fb&oe=61163176&_nc_sid=4efc9f&ig_cache_key=MjYzNTg0MTM5MjI3MTg4ODk2MQ%3D%3D.2-ccb7-4',\n",
       " 'https://instagram.fcjb3-3.fna.fbcdn.net/v/t51.2885-15/e35/c120.0.480.480a/234132212_879338907082672_4087707065811442010_n.jpg?_nc_ht=instagram.fcjb3-3.fna.fbcdn.net&_nc_cat=104&_nc_ohc=csLUbey-HqsAX88rwxM&edm=ABZsPhsBAAAA&ccb=7-4&oh=6cadd219dd6bafad337db9c28fe7c7ab&oe=6117BE50&_nc_sid=4efc9f&ig_cache_key=MjYzNTg0MTM5NDE0MzY0MDU4Nw%3D%3D.2-ccb7-4',\n",
       " 'https://instagram.fcjb3-1.fna.fbcdn.net/v/t51.2885-15/e35/233787306_3181095102112570_7746361369598441696_n.jpg?_nc_ht=instagram.fcjb3-1.fna.fbcdn.net&_nc_cat=110&_nc_ohc=6bVH6KjIlDAAX95d8Ie&edm=ABZsPhsBAAAA&ccb=7-4&oh=bcb7acac729a8afe3d9ffd3e83ca9d2e&oe=61162FD1&_nc_sid=4efc9f&ig_cache_key=MjYzNTg0MTM4ODYxMzY1NjcxNw%3D%3D.2-ccb7-4',\n",
       " 'https://instagram.fcjb3-1.fna.fbcdn.net/v/t51.2885-15/e35/233640274_821845805016215_8880056608786957284_n.jpg?_nc_ht=instagram.fcjb3-1.fna.fbcdn.net&_nc_cat=111&_nc_ohc=KXyH8f_VeJ4AX8CPOxT&edm=ABZsPhsBAAAA&ccb=7-4&oh=ebd755a3e0b7265ddee75a5b6f9380fc&oe=6116FD46&_nc_sid=4efc9f&ig_cache_key=MjYzNTg0MTM5MzQ5NzY0NDc4MQ%3D%3D.2-ccb7-4',\n",
       " 'https://instagram.fcjb3-2.fna.fbcdn.net/v/t51.2885-15/e35/233814201_534164444454162_3919381864978566112_n.jpg?_nc_ht=instagram.fcjb3-2.fna.fbcdn.net&_nc_cat=106&_nc_ohc=fq7PmNUbnU4AX-57s6N&edm=ABZsPhsBAAAA&ccb=7-4&oh=fdfbd48c8aca96f083089613f727e52c&oe=611794B9&_nc_sid=4efc9f&ig_cache_key=MjYzNTg0MTM4MjAyMTY4NDc2MQ%3D%3D.2-ccb7-4',\n",
       " 'https://instagram.fcjb3-3.fna.fbcdn.net/v/t51.2885-15/e35/c157.0.406.406a/233834264_897276691144237_3419853361396139642_n.jpg?_nc_ht=instagram.fcjb3-3.fna.fbcdn.net&_nc_cat=101&_nc_ohc=11t39xvVR20AX_5l8sS&tn=iQqThGufhmc8JBw_&edm=ABZsPhsBAAAA&ccb=7-4&oh=4e7ca4e809868922125d24844be7e62a&oe=611771A3&_nc_sid=4efc9f&ig_cache_key=MjYzNTg0MTE3MzIxMjI2MTAyMw%3D%3D.2-ccb7-4',\n",
       " 'https://instagram.fcjb3-1.fna.fbcdn.net/v/t51.2885-15/e35/233868564_1689134981286587_1157865488762088101_n.jpg?_nc_ht=instagram.fcjb3-1.fna.fbcdn.net&_nc_cat=111&_nc_ohc=l2bFugLDxDEAX-Y3xgp&edm=ABZsPhsBAAAA&ccb=7-4&oh=bd5d207bb3aac24dfcecac047322724c&oe=61173E3F&_nc_sid=4efc9f&ig_cache_key=MjYzNTg0MTM4NTY4NTkxMjI2Nw%3D%3D.2-ccb7-4',\n",
       " 'https://instagram.fcjb3-3.fna.fbcdn.net/v/t51.2885-15/e35/234538143_205615871516732_8843579997523068378_n.jpg?_nc_ht=instagram.fcjb3-3.fna.fbcdn.net&_nc_cat=108&_nc_ohc=MYkgSyfbv-YAX-oJdnV&edm=ABZsPhsBAAAA&ccb=7-4&oh=51fa9ef4bbe10ab9996f5dc8b5261778&oe=611704B2&_nc_sid=4efc9f&ig_cache_key=MjYzNTg0MTM4MTQ5OTQ3MzM2MA%3D%3D.2-ccb7-4',\n",
       " 'https://instagram.fcjb3-1.fna.fbcdn.net/v/t51.2885-15/e35/235445247_543370816814314_8081479702445634588_n.jpg?_nc_ht=instagram.fcjb3-1.fna.fbcdn.net&_nc_cat=110&_nc_ohc=S5FtwamojJMAX8OAXrQ&tn=iQqThGufhmc8JBw_&edm=ABZsPhsBAAAA&ccb=7-4&oh=fb3229d3dfc5f0878f2f46c193f0ad42&oe=6116A945&_nc_sid=4efc9f&ig_cache_key=MjYzNTg0MTM3ODA4NzA3MDEyNQ%3D%3D.2-ccb7-4',\n",
       " 'https://instagram.fcjb3-3.fna.fbcdn.net/v/t51.2885-15/e35/233671072_370704178003049_7982915425956703318_n.jpg?_nc_ht=instagram.fcjb3-3.fna.fbcdn.net&_nc_cat=105&_nc_ohc=OfN1cej_MJEAX8sBH8E&tn=iQqThGufhmc8JBw_&edm=ABZsPhsBAAAA&ccb=7-4&oh=3d2088c7be6e94e6951266955315e957&oe=611668E4&_nc_sid=4efc9f&ig_cache_key=MjYzNTg0MTM2MTE0MDg2NzMxNg%3D%3D.2-ccb7-4',\n",
       " 'https://instagram.fcjb3-1.fna.fbcdn.net/v/t51.2885-15/e35/234806846_352700139737914_1991390913528750555_n.jpg?_nc_ht=instagram.fcjb3-1.fna.fbcdn.net&_nc_cat=110&_nc_ohc=3q0PRqrzCt8AX8N0_1g&edm=ABZsPhsBAAAA&ccb=7-4&oh=0f049e863e9e324b1a90dd689e301e10&oe=61179407&_nc_sid=4efc9f&ig_cache_key=MjYzNTg0MTM1NTAxNzI2MzgwMQ%3D%3D.2-ccb7-4',\n",
       " 'https://instagram.fcjb3-3.fna.fbcdn.net/v/t51.2885-15/e35/234840732_629116861385300_3449338344667764888_n.jpg?_nc_ht=instagram.fcjb3-3.fna.fbcdn.net&_nc_cat=108&_nc_ohc=bd0gE8OSmJsAX8RkSid&edm=ABZsPhsBAAAA&ccb=7-4&oh=3bed06260aadab7833bba3d1022c6f91&oe=6117A644&_nc_sid=4efc9f&ig_cache_key=MjYzNTg0MTM2MTQ5MjcyMDQ2NA%3D%3D.2-ccb7-4',\n",
       " 'https://instagram.fcjb3-2.fna.fbcdn.net/v/t51.2885-15/e35/233699714_2908100776171878_5331716935688493763_n.jpg?_nc_ht=instagram.fcjb3-2.fna.fbcdn.net&_nc_cat=106&_nc_ohc=_OWgMVUSpLYAX8CpjN7&edm=ABZsPhsBAAAA&ccb=7-4&oh=dd86598c66f54b303b46c731a4ee9587&oe=61173C37&_nc_sid=4efc9f&ig_cache_key=MjYzNTg0MTM0NzgyMDc4MzgxNg%3D%3D.2-ccb7-4',\n",
       " 'https://instagram.fcjb3-1.fna.fbcdn.net/v/t51.2885-15/e35/233747147_561496088521895_1878258566167164713_n.jpg?_nc_ht=instagram.fcjb3-1.fna.fbcdn.net&_nc_cat=111&_nc_ohc=Qj4_5vRYtOYAX9qUNj-&edm=ABZsPhsBAAAA&ccb=7-4&oh=296ebb736b46a3096b90c14874c8df68&oe=61174438&_nc_sid=4efc9f&ig_cache_key=MjYzNTg0MTM0ODE0ODc5NDk4NA%3D%3D.2-ccb7-4',\n",
       " 'https://instagram.fcjb3-2.fna.fbcdn.net/v/t51.2885-15/e35/234079960_473282097339087_6915231510834742587_n.jpg?_nc_ht=instagram.fcjb3-2.fna.fbcdn.net&_nc_cat=103&_nc_ohc=WXzjHLGTaqYAX8NV-6g&edm=ABZsPhsBAAAA&ccb=7-4&oh=7169a79c9c1bc67ffa909b188d01ebb6&oe=6116F4D6&_nc_sid=4efc9f&ig_cache_key=MjYzNTg0MTM0MDgyNTAxOTUzMw%3D%3D.2-ccb7-4',\n",
       " 'https://instagram.fcjb3-1.fna.fbcdn.net/v/t51.2885-15/e35/234524195_207177331365338_7003719332135169380_n.jpg?_nc_ht=instagram.fcjb3-1.fna.fbcdn.net&_nc_cat=102&_nc_ohc=MYXn0cIBLioAX8l-qpK&edm=ABZsPhsBAAAA&ccb=7-4&oh=3acb358810ec1fe6aefc6691448f05d4&oe=61165DB4&_nc_sid=4efc9f&ig_cache_key=MjYzNTg0MTMzODMzMzk4MDQ0Mg%3D%3D.2-ccb7-4',\n",
       " 'https://instagram.fcjb3-3.fna.fbcdn.net/v/t51.2885-15/e35/234524195_422834972372212_1109884194206180547_n.jpg?_nc_ht=instagram.fcjb3-3.fna.fbcdn.net&_nc_cat=104&_nc_ohc=nOq_oQS8dLUAX8xJuFJ&edm=ABZsPhsBAAAA&ccb=7-4&oh=9580a55ea63d73bd170fb240392a24d5&oe=61178B18&_nc_sid=4efc9f&ig_cache_key=MjYzNTg0MTMzOTI1NTc2MzQxNQ%3D%3D.2-ccb7-4',\n",
       " 'https://instagram.fcjb3-3.fna.fbcdn.net/v/t51.2885-15/e35/233733133_899184214016813_5537028780693211337_n.jpg?_nc_ht=instagram.fcjb3-3.fna.fbcdn.net&_nc_cat=105&_nc_ohc=uzKzkxuXwlIAX-GVR-j&tn=iQqThGufhmc8JBw_&edm=ABZsPhsBAAAA&ccb=7-4&oh=2fcd798a167d99fd098d12f2c093b426&oe=61162DF0&_nc_sid=4efc9f&ig_cache_key=MjYzNTg0MDk0NTk0MDA5MTU2MQ%3D%3D.2-ccb7-4',\n",
       " 'https://instagram.fcjb3-1.fna.fbcdn.net/v/t51.2885-15/e35/233787307_927735567804599_6521740192417254253_n.jpg?_nc_ht=instagram.fcjb3-1.fna.fbcdn.net&_nc_cat=111&_nc_ohc=vAe964FZM_kAX9XRUU9&edm=ABZsPhsBAAAA&ccb=7-4&oh=0222b120a9bdae99e224341d17c13b61&oe=6117829F&_nc_sid=4efc9f&ig_cache_key=MjYzNTgzMTExMDk2MDEzODY1NA%3D%3D.2-ccb7-4',\n",
       " 'https://instagram.fcjb3-1.fna.fbcdn.net/v/t51.2885-15/e35/233907478_248658633600122_4729373480478882983_n.jpg?_nc_ht=instagram.fcjb3-1.fna.fbcdn.net&_nc_cat=102&_nc_ohc=YY-kP_bnOZAAX87eDcp&edm=ABZsPhsBAAAA&ccb=7-4&oh=9b91d598dee2c35428d6d279d74f1929&oe=61174990&_nc_sid=4efc9f&ig_cache_key=MjYzNTgzMDgzMzA0MzA4ODAwNw%3D%3D.2-ccb7-4',\n",
       " 'https://www.instagram.com/static/images/web/mobile_nav_type_logo.png/735145cfe0a4.png',\n",
       " 'https://instagram.fcjb3-2.fna.fbcdn.net/v/t51.2885-19/s150x150/94128202_570208106964422_2965138983278870528_n.jpg?_nc_ht=instagram.fcjb3-2.fna.fbcdn.net&_nc_ohc=zJJNnWfCFo8AX_mdnzR&edm=AIQHJ4wBAAAA&ccb=7-4&oh=62876be6f447061dd15987174866d483&oe=61172A48&_nc_sid=7b02f1']"
      ]
     },
     "execution_count": 11,
     "metadata": {},
     "output_type": "execute_result"
    }
   ],
   "source": [
    "#Scroll down to scrape more images\n",
    "driver.execute_script(\"window.scrollTo(0, 1000);\")\n",
    "\n",
    "#Target all images on the page\n",
    "images = driver.find_elements_by_tag_name('img')\n",
    "images = [image.get_attribute('src') for image in images]\n",
    "images"
   ]
  },
  {
   "cell_type": "markdown",
   "metadata": {},
   "source": [
    "# Save Images to Computer"
   ]
  },
  {
   "cell_type": "code",
   "execution_count": 12,
   "metadata": {},
   "outputs": [
    {
     "data": {
      "text/plain": [
       "'C:\\\\Users\\\\MONOJ\\\\naturephotography'"
      ]
     },
     "execution_count": 12,
     "metadata": {},
     "output_type": "execute_result"
    }
   ],
   "source": [
    "path = os.getcwd()\n",
    "path = os.path.join(path, keyword[1:])\n",
    "\n",
    "#create the directory\n",
    "os.mkdir(path)\n",
    "path"
   ]
  },
  {
   "cell_type": "code",
   "execution_count": 13,
   "metadata": {},
   "outputs": [],
   "source": [
    "#download images\n",
    "counter = 0\n",
    "for image in images:\n",
    "    save_as = os.path.join(path, keyword[1:] + str(counter) + '.jpg')\n",
    "    wget.download(image, save_as)\n",
    "    counter += 1"
   ]
  },
  {
   "cell_type": "markdown",
   "metadata": {},
   "source": [
    "# Images will be download and view it in the specific path"
   ]
  }
 ],
 "metadata": {
  "kernelspec": {
   "display_name": "Python 3",
   "language": "python",
   "name": "python3"
  },
  "language_info": {
   "codemirror_mode": {
    "name": "ipython",
    "version": 3
   },
   "file_extension": ".py",
   "mimetype": "text/x-python",
   "name": "python",
   "nbconvert_exporter": "python",
   "pygments_lexer": "ipython3",
   "version": "3.8.5"
  }
 },
 "nbformat": 4,
 "nbformat_minor": 4
}
